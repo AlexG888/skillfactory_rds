{
 "cells": [
  {
   "cell_type": "markdown",
   "metadata": {},
   "source": [
    "## Описание проекта\n",
    "\n",
    "Представьте, что вы работаете DS в компании TripAdvisor. Одна из проблем компании — это нечестные рестораны, которые накручивают себе рейтинг. Одним из способов нахождения таких ресторанов является построение модели, которая предсказывает рейтинг ресторана. Если предсказания модели сильно отличаются от фактического результата, то, возможно, ресторан играет нечестно, и его стоит проверить.\n",
    "\n",
    "\n",
    "## Цели проекта\n",
    "\n",
    "- Подготовить данные для обучения модели;\n",
    "- Построить модель предсказывающую рейтинг ресторана.\n",
    "\n",
    "\n",
    "### Первоначальная версия датасета:\n",
    "\n",
    "- Restaurant_id — идентификационный номер ресторана / сети ресторанов;\n",
    "- City — город, в котором находится ресторан;\n",
    "- Cuisine Style — кухня или кухни, к которым можно отнести блюда, предлагаемые в ресторане;\n",
    "- Ranking — место, которое занимает данный ресторан среди всех ресторанов своего города;\n",
    "- Rating — рейтинг ресторана по данным TripAdvisor (именно это значение должна будет предсказывать модель);\n",
    "- Price Range — диапазон цен в ресторане;\n",
    "- Number of Reviews — количество отзывов о ресторане;\n",
    "- Reviews — данные о двух отзывах, которые отображаются на сайте ресторана;\n",
    "- URL_TA — URL страницы ресторана на [TripAdvosor](www.tripadvisor.com);\n",
    "- ID_TA — идентификатор ресторана в базе данных TripAdvisor.\n"
   ]
  },
  {
   "cell_type": "markdown",
   "metadata": {},
   "source": [
    "## Загрузка дополнительных библиотек:"
   ]
  },
  {
   "cell_type": "code",
   "execution_count": 1,
   "metadata": {},
   "outputs": [],
   "source": [
    "import numpy as np \n",
    "import pandas as pd \n",
    "\n",
    "import matplotlib.pyplot as plt\n",
    "import seaborn as sns \n",
    "%matplotlib inline\n",
    "\n",
    "import datetime\n",
    "from datetime import datetime, timedelta\n",
    "\n",
    "import re \n",
    "\n",
    "# Загружаем специальный удобный инструмент для разделения датасета:\n",
    "from sklearn.model_selection import train_test_split\n",
    "\n",
    "from sklearn.ensemble import RandomForestRegressor # инструмент для создания и обучения модели\n",
<<<<<<< HEAD
    "from sklearn import metrics # инструменты для оценки точности модели\n",
    "\n",
    "# Input data files are available in the \"../input/\" directory.\n",
    "# For example, running this (by clicking run or pressing Shift+Enter) will list all files under the input directory\n",
    "\n",
    "import os\n",
    "for dirname, _, filenames in os.walk('/kaggle/input'):\n",
    "    for filename in filenames:\n",
    "        print(os.path.join(dirname, filename))\n",
    "\n",
    "# Any results you write to the current directory are saved as output."
=======
    "from sklearn import metrics # инструменты для оценки точности модели"
>>>>>>> e5b8f3cfcba6ff204a97711356b9ba6b982d76bb
   ]
  },
  {
   "cell_type": "code",
   "execution_count": 2,
   "metadata": {},
   "outputs": [],
   "source": [
    "# фиксируем RANDOM_SEED, чтобы эксперименты были воспроизводимы:\n",
    "RANDOM_SEED = 42"
   ]
  },
  {
   "cell_type": "code",
   "execution_count": 3,
   "metadata": {},
   "outputs": [],
   "source": [
    "# фиксируем версию пакетов, чтобы эксперименты были воспроизводимы:\n",
    "!pip freeze > data/requirements.txt"
   ]
  },
  {
   "cell_type": "markdown",
   "metadata": {},
   "source": [
    "## Предварительный просмотр данных"
   ]
  },
  {
   "cell_type": "code",
   "execution_count": 4,
   "metadata": {},
   "outputs": [],
   "source": [
    "df_train = pd.read_csv('data/main_task.csv')\n",
    "df_test = pd.read_csv('data/kaggle_task.csv')\n",
    "sample_submission = pd.read_csv('data/sample_submission.csv')"
   ]
  },
  {
   "cell_type": "code",
   "execution_count": 5,
   "metadata": {},
   "outputs": [],
   "source": [
    "# ВАЖНО! для корректной обработки признаков объединяем трейн и тест в один датасет\n",
    "df_train['sample'] = 1 # помечаем где у нас трейн\n",
    "df_test['sample'] = 0 # помечаем где у нас тест\n",
    "df_test['Rating'] = 0 # в тесте у нас нет значения Rating, мы его должны предсказать, по этому пока просто заполняем нулями\n",
    "\n",
    "data = df_test.append(df_train, sort=False).reset_index(drop=True) # объединяем"
   ]
  },
  {
   "cell_type": "code",
   "execution_count": 6,
   "metadata": {},
   "outputs": [
    {
     "name": "stdout",
     "output_type": "stream",
     "text": [
      "<class 'pandas.core.frame.DataFrame'>\n",
      "RangeIndex: 50000 entries, 0 to 49999\n",
      "Data columns (total 11 columns):\n",
      " #   Column             Non-Null Count  Dtype  \n",
      "---  ------             --------------  -----  \n",
      " 0   Restaurant_id      50000 non-null  object \n",
      " 1   City               50000 non-null  object \n",
      " 2   Cuisine Style      38410 non-null  object \n",
      " 3   Ranking            50000 non-null  float64\n",
      " 4   Price Range        32639 non-null  object \n",
      " 5   Number of Reviews  46800 non-null  float64\n",
      " 6   Reviews            49998 non-null  object \n",
      " 7   URL_TA             50000 non-null  object \n",
      " 8   ID_TA              50000 non-null  object \n",
      " 9   sample             50000 non-null  int64  \n",
      " 10  Rating             50000 non-null  float64\n",
      "dtypes: float64(3), int64(1), object(7)\n",
      "memory usage: 4.2+ MB\n"
     ]
    }
   ],
   "source": [
    "data.info()"
   ]
  },
  {
   "cell_type": "code",
   "execution_count": 7,
   "metadata": {
    "scrolled": true
   },
   "outputs": [
    {
     "data": {
      "text/html": [
       "<div>\n",
       "<style scoped>\n",
       "    .dataframe tbody tr th:only-of-type {\n",
       "        vertical-align: middle;\n",
       "    }\n",
       "\n",
       "    .dataframe tbody tr th {\n",
       "        vertical-align: top;\n",
       "    }\n",
       "\n",
       "    .dataframe thead th {\n",
       "        text-align: right;\n",
       "    }\n",
       "</style>\n",
       "<table border=\"1\" class=\"dataframe\">\n",
       "  <thead>\n",
       "    <tr style=\"text-align: right;\">\n",
       "      <th></th>\n",
       "      <th>Restaurant_id</th>\n",
       "      <th>City</th>\n",
       "      <th>Cuisine Style</th>\n",
       "      <th>Ranking</th>\n",
       "      <th>Price Range</th>\n",
       "      <th>Number of Reviews</th>\n",
       "      <th>Reviews</th>\n",
       "      <th>URL_TA</th>\n",
       "      <th>ID_TA</th>\n",
       "      <th>sample</th>\n",
       "      <th>Rating</th>\n",
       "    </tr>\n",
       "  </thead>\n",
       "  <tbody>\n",
       "    <tr>\n",
       "      <th>0</th>\n",
       "      <td>id_0</td>\n",
       "      <td>Paris</td>\n",
       "      <td>['Bar', 'Pub']</td>\n",
       "      <td>12963.0</td>\n",
       "      <td>$$ - $$$</td>\n",
       "      <td>4.0</td>\n",
       "      <td>[[], []]</td>\n",
       "      <td>/Restaurant_Review-g187147-d10746918-Reviews-L...</td>\n",
       "      <td>d10746918</td>\n",
       "      <td>0</td>\n",
       "      <td>0.0</td>\n",
       "    </tr>\n",
       "    <tr>\n",
       "      <th>1</th>\n",
       "      <td>id_1</td>\n",
       "      <td>Helsinki</td>\n",
       "      <td>['European', 'Scandinavian', 'Gluten Free Opti...</td>\n",
       "      <td>106.0</td>\n",
       "      <td>$$ - $$$</td>\n",
       "      <td>97.0</td>\n",
       "      <td>[['Very good reviews!', 'Fine dining in Hakani...</td>\n",
       "      <td>/Restaurant_Review-g189934-d6674944-Reviews-Ra...</td>\n",
       "      <td>d6674944</td>\n",
       "      <td>0</td>\n",
       "      <td>0.0</td>\n",
       "    </tr>\n",
       "    <tr>\n",
       "      <th>2</th>\n",
       "      <td>id_2</td>\n",
       "      <td>Edinburgh</td>\n",
       "      <td>['Vegetarian Friendly']</td>\n",
       "      <td>810.0</td>\n",
       "      <td>$$ - $$$</td>\n",
       "      <td>28.0</td>\n",
       "      <td>[['Better than the Links', 'Ivy Black'], ['12/...</td>\n",
       "      <td>/Restaurant_Review-g186525-d13129638-Reviews-B...</td>\n",
       "      <td>d13129638</td>\n",
       "      <td>0</td>\n",
       "      <td>0.0</td>\n",
       "    </tr>\n",
       "    <tr>\n",
       "      <th>3</th>\n",
       "      <td>id_3</td>\n",
       "      <td>London</td>\n",
       "      <td>['Italian', 'Mediterranean', 'European', 'Vege...</td>\n",
       "      <td>1669.0</td>\n",
       "      <td>$$$$</td>\n",
       "      <td>202.0</td>\n",
       "      <td>[['Most exquisite', 'Delicious and authentic']...</td>\n",
       "      <td>/Restaurant_Review-g186338-d680417-Reviews-Qui...</td>\n",
       "      <td>d680417</td>\n",
       "      <td>0</td>\n",
       "      <td>0.0</td>\n",
       "    </tr>\n",
       "    <tr>\n",
       "      <th>4</th>\n",
       "      <td>id_4</td>\n",
       "      <td>Bratislava</td>\n",
       "      <td>['Italian', 'Mediterranean', 'European', 'Seaf...</td>\n",
       "      <td>37.0</td>\n",
       "      <td>$$$$</td>\n",
       "      <td>162.0</td>\n",
       "      <td>[['Always the best in bratislava', 'Very good ...</td>\n",
       "      <td>/Restaurant_Review-g274924-d1112354-Reviews-Ma...</td>\n",
       "      <td>d1112354</td>\n",
       "      <td>0</td>\n",
       "      <td>0.0</td>\n",
       "    </tr>\n",
       "    <tr>\n",
       "      <th>...</th>\n",
       "      <td>...</td>\n",
       "      <td>...</td>\n",
       "      <td>...</td>\n",
       "      <td>...</td>\n",
       "      <td>...</td>\n",
       "      <td>...</td>\n",
       "      <td>...</td>\n",
       "      <td>...</td>\n",
       "      <td>...</td>\n",
       "      <td>...</td>\n",
       "      <td>...</td>\n",
       "    </tr>\n",
       "    <tr>\n",
       "      <th>49995</th>\n",
       "      <td>id_499</td>\n",
       "      <td>Milan</td>\n",
       "      <td>['Italian', 'Vegetarian Friendly', 'Vegan Opti...</td>\n",
       "      <td>500.0</td>\n",
       "      <td>$$ - $$$</td>\n",
       "      <td>79.0</td>\n",
       "      <td>[['The real Italian experience!', 'Wonderful f...</td>\n",
       "      <td>/Restaurant_Review-g187849-d2104414-Reviews-Ro...</td>\n",
       "      <td>d2104414</td>\n",
       "      <td>1</td>\n",
       "      <td>4.5</td>\n",
       "    </tr>\n",
       "    <tr>\n",
       "      <th>49996</th>\n",
       "      <td>id_6340</td>\n",
       "      <td>Paris</td>\n",
       "      <td>['French', 'American', 'Bar', 'European', 'Veg...</td>\n",
       "      <td>6341.0</td>\n",
       "      <td>$$ - $$$</td>\n",
       "      <td>542.0</td>\n",
       "      <td>[['Parisian atmosphere', 'Bit pricey but inter...</td>\n",
       "      <td>/Restaurant_Review-g187147-d1800036-Reviews-La...</td>\n",
       "      <td>d1800036</td>\n",
       "      <td>1</td>\n",
       "      <td>3.5</td>\n",
       "    </tr>\n",
       "    <tr>\n",
       "      <th>49997</th>\n",
       "      <td>id_1649</td>\n",
       "      <td>Stockholm</td>\n",
       "      <td>['Japanese', 'Sushi']</td>\n",
       "      <td>1652.0</td>\n",
       "      <td>NaN</td>\n",
       "      <td>4.0</td>\n",
       "      <td>[['Good by swedish standards', 'A hidden jewel...</td>\n",
       "      <td>/Restaurant_Review-g189852-d947615-Reviews-Sus...</td>\n",
       "      <td>d947615</td>\n",
       "      <td>1</td>\n",
       "      <td>4.5</td>\n",
       "    </tr>\n",
       "    <tr>\n",
       "      <th>49998</th>\n",
       "      <td>id_640</td>\n",
       "      <td>Warsaw</td>\n",
       "      <td>['Polish', 'European', 'Eastern European', 'Ce...</td>\n",
       "      <td>641.0</td>\n",
       "      <td>$$ - $$$</td>\n",
       "      <td>70.0</td>\n",
       "      <td>[['Underground restaurant', 'Oldest Restaurant...</td>\n",
       "      <td>/Restaurant_Review-g274856-d1100838-Reviews-Ho...</td>\n",
       "      <td>d1100838</td>\n",
       "      <td>1</td>\n",
       "      <td>4.0</td>\n",
       "    </tr>\n",
       "    <tr>\n",
       "      <th>49999</th>\n",
       "      <td>id_4824</td>\n",
       "      <td>Milan</td>\n",
       "      <td>['Spanish']</td>\n",
       "      <td>4827.0</td>\n",
       "      <td>$$ - $$$</td>\n",
       "      <td>260.0</td>\n",
       "      <td>[['Average', 'Nice an informal'], ['01/31/2016...</td>\n",
       "      <td>/Restaurant_Review-g187849-d1109020-Reviews-Ta...</td>\n",
       "      <td>d1109020</td>\n",
       "      <td>1</td>\n",
       "      <td>3.0</td>\n",
       "    </tr>\n",
       "  </tbody>\n",
       "</table>\n",
       "<p>50000 rows × 11 columns</p>\n",
       "</div>"
      ],
      "text/plain": [
       "      Restaurant_id        City  \\\n",
       "0              id_0       Paris   \n",
       "1              id_1    Helsinki   \n",
       "2              id_2   Edinburgh   \n",
       "3              id_3      London   \n",
       "4              id_4  Bratislava   \n",
       "...             ...         ...   \n",
       "49995        id_499       Milan   \n",
       "49996       id_6340       Paris   \n",
       "49997       id_1649   Stockholm   \n",
       "49998        id_640      Warsaw   \n",
       "49999       id_4824       Milan   \n",
       "\n",
       "                                           Cuisine Style  Ranking Price Range  \\\n",
       "0                                         ['Bar', 'Pub']  12963.0    $$ - $$$   \n",
       "1      ['European', 'Scandinavian', 'Gluten Free Opti...    106.0    $$ - $$$   \n",
       "2                                ['Vegetarian Friendly']    810.0    $$ - $$$   \n",
       "3      ['Italian', 'Mediterranean', 'European', 'Vege...   1669.0        $$$$   \n",
       "4      ['Italian', 'Mediterranean', 'European', 'Seaf...     37.0        $$$$   \n",
       "...                                                  ...      ...         ...   \n",
       "49995  ['Italian', 'Vegetarian Friendly', 'Vegan Opti...    500.0    $$ - $$$   \n",
       "49996  ['French', 'American', 'Bar', 'European', 'Veg...   6341.0    $$ - $$$   \n",
       "49997                              ['Japanese', 'Sushi']   1652.0         NaN   \n",
       "49998  ['Polish', 'European', 'Eastern European', 'Ce...    641.0    $$ - $$$   \n",
       "49999                                        ['Spanish']   4827.0    $$ - $$$   \n",
       "\n",
       "       Number of Reviews                                            Reviews  \\\n",
       "0                    4.0                                           [[], []]   \n",
       "1                   97.0  [['Very good reviews!', 'Fine dining in Hakani...   \n",
       "2                   28.0  [['Better than the Links', 'Ivy Black'], ['12/...   \n",
       "3                  202.0  [['Most exquisite', 'Delicious and authentic']...   \n",
       "4                  162.0  [['Always the best in bratislava', 'Very good ...   \n",
       "...                  ...                                                ...   \n",
       "49995               79.0  [['The real Italian experience!', 'Wonderful f...   \n",
       "49996              542.0  [['Parisian atmosphere', 'Bit pricey but inter...   \n",
       "49997                4.0  [['Good by swedish standards', 'A hidden jewel...   \n",
       "49998               70.0  [['Underground restaurant', 'Oldest Restaurant...   \n",
       "49999              260.0  [['Average', 'Nice an informal'], ['01/31/2016...   \n",
       "\n",
       "                                                  URL_TA      ID_TA  sample  \\\n",
       "0      /Restaurant_Review-g187147-d10746918-Reviews-L...  d10746918       0   \n",
       "1      /Restaurant_Review-g189934-d6674944-Reviews-Ra...   d6674944       0   \n",
       "2      /Restaurant_Review-g186525-d13129638-Reviews-B...  d13129638       0   \n",
       "3      /Restaurant_Review-g186338-d680417-Reviews-Qui...    d680417       0   \n",
       "4      /Restaurant_Review-g274924-d1112354-Reviews-Ma...   d1112354       0   \n",
       "...                                                  ...        ...     ...   \n",
       "49995  /Restaurant_Review-g187849-d2104414-Reviews-Ro...   d2104414       1   \n",
       "49996  /Restaurant_Review-g187147-d1800036-Reviews-La...   d1800036       1   \n",
       "49997  /Restaurant_Review-g189852-d947615-Reviews-Sus...    d947615       1   \n",
       "49998  /Restaurant_Review-g274856-d1100838-Reviews-Ho...   d1100838       1   \n",
       "49999  /Restaurant_Review-g187849-d1109020-Reviews-Ta...   d1109020       1   \n",
       "\n",
       "       Rating  \n",
       "0         0.0  \n",
       "1         0.0  \n",
       "2         0.0  \n",
       "3         0.0  \n",
       "4         0.0  \n",
       "...       ...  \n",
       "49995     4.5  \n",
       "49996     3.5  \n",
       "49997     4.5  \n",
       "49998     4.0  \n",
       "49999     3.0  \n",
       "\n",
       "[50000 rows x 11 columns]"
      ]
     },
     "execution_count": 7,
     "metadata": {},
     "output_type": "execute_result"
    }
   ],
   "source": [
    "data"
   ]
  },
  {
   "cell_type": "markdown",
   "metadata": {},
   "source": [
    "Числовой формат данных имеют три признака: 'Ranking', 'Rating', 'Number of Reviews'.\n",
    "\n",
    "Признаки 'Cuisine Style', 'Reviews' имеют строковый тип данных, при этом содержат в себе список значений."
   ]
  },
  {
   "cell_type": "markdown",
   "metadata": {},
   "source": [
    "### Пропуски в данных"
   ]
  },
  {
   "cell_type": "code",
   "execution_count": 8,
   "metadata": {},
   "outputs": [
    {
     "data": {
      "image/png": "iVBORw0KGgoAAAANSUhEUgAAA/oAAAEwCAYAAAAHCgpaAAAABHNCSVQICAgIfAhkiAAAAAlwSFlzAAALEgAACxIB0t1+/AAAADh0RVh0U29mdHdhcmUAbWF0cGxvdGxpYiB2ZXJzaW9uMy4xLjMsIGh0dHA6Ly9tYXRwbG90bGliLm9yZy+AADFEAAAgAElEQVR4nO3de7RkV10n8O8vtoHWKA8RpaNjFBREHgkkjIw0EsCIiCIixMjIQ9DxMaCMsAbEYaH4woAMiIq8RBAViERDEIkgIS2PhJiEJARBgSAkiIKKZIyEwJ4/zrnpys2t2307t/etOvX5rJWV21Wnqnbt2nXO/u3927uqtRYAAABgGo7Y6QIAAAAA20egDwAAABMi0AcAAIAJEegDAADAhAj0AQAAYEIE+gAAADAhuza988ij/fYewJK4+sp92b1n704XYyWoawBgEVx7zRW10e3V2vxYXqDPVF195b6dLsLKEAz1pW33oV0DAItAoA8AAAATMi/Q3zR1H4DlYTa/L7P6AMCiMqMPAAAAS2jejL5d9wEAAGBCpO6zkqQ49yO9uR/tmqlyHgGArZG6DwAAAEvIZnwAsI1kUPRjRh8Atkagz0rSQe9HB70f7RoAgETqPgAAACwlqfsAE2dGn6mSGQQAW2NGHwAAAJaQGX2AiTOj35dZZgBgUR2x0wUAAAAAto8ZfVaSmc9+zHoyVc4j/TiPAMDWCPQBJmL3nr2Cz04EngDAIrMZHwAAACyheZvxWaMPAAAAEyLQB5gIafv9qGsAYJFZo89K0knvx1rmvrRtAAAE+qwkwSdTpW33YUAFAFhkUvcBAABgQszos5LMxvVjhrkvbRsAAIE+K0nwyVRp230YUAEAFpnUfQAAAJiQaq3NvXPXkUfPvxMAAADYMddec0VtdLsZfQAAAJgQgT7ARFg33o+6BgAWmUAfAAAAJsQafVaS2bh+7ALfl7bdh3YNACyCeWv0BfoAAACwhGzGBwAAACtg104XAHaC9OZ+pDj3o133pW0DAItK6j4AAAAsIan7AAAAsAIE+gAAADAhAn0AAACYEIE+AAAATIhAHwAAACZEoA8AAAATItAHAACACRHoAwAAwITs2ukCwE64+sp9O12ElbF7z96dLsJK0bb70K4BgEVmRh8AAAAmRKAPAAAAE1Kttbl37jry6Pl3AgAAADvm2muuqI1ut0YfYEKs0e/DGn0AYJGZ0WclCYb6ERD1o133pW0DADtt3oy+QB8AAACW0LxA32Z8AAAAMCHW6LOSpDj3I725H+26L20bAFhUUvcBAABgCUndB5g4M/r9qGsAYJGZ0QeYEAFoH9L2AYBFMG9G3xp9gIm4+sp9AtBO1DUAsMjM6ANMiBn9Pnbv2auuOzKoAgAbmzejL9AHAACAJSR1H2DizDD3ZZYZAFhUAn0AOAQGVvoxqAIAWyN1HwAAAJbQvNT9I3oXBAAAADh8BPoAAAAwIdbos5Ksre3H2tp+tOu+tG0AYFEJ9FlJOuhMlbbdh0EVAGCR2YwPAAAAlpDN+AAAAGAFCPQBAABgQgT6ABNh3Xg/6hoAWGQCfQAAAJgQgT4AAABMiF33AQAAYAnN23V/V++CwCKwvrYfv+vel7bdh3YNACwyM/oAAACwhObN6FujDwAAABMidZ+VJL25HynOfWnbfWjXAMAik7oPAAAAS0jqPgAAAKwAgT4AAABMiDX6rCTrmPuxlrkf7bovbRsAWFTW6ANMiGC/j9179qrrjgyqAMDG5q3RF+gDAADAErIZHwAAAKwAa/RZSVJu+5Fy24923Ze2DQAsKqn7AAAAsITmpe6b0QeYCDP6fZnRBwAWlUCflSQg6kcwBAAAfUndBwAAgCUkdR9g4mSq9CVbBQBYVAJ9gAkRfPZhUAUAWGRH7HQBAAAAgO1jjT4AAAAsoXlr9M3oA0yEdPJ+1DUAsMjM6LOSdNL7sWa8L227j9179qrrjpxHAGBj82b0BfoAAACwhKTuA0ycGeZ+1DUAsMjM6AMAAMASMqMPAAAAK0CgDwAAABMi0AcAAIAJEegDAADAhAj0AQAAYEIE+gAT4Sff+lHXAMAiE+gDAADAhAj0AQAAYEKqtTb3zl1HHj3/TgAAAGDHXHvNFbXR7Wb0AQAAYEIE+gAAADAhu3a6AABsDzvBM1W79+zd6SIAwFIR6APAIRB8AgCLSqDPSjLz2Y9gCAAA+rJGHwAAACbEjD4rySwzAAAwVQJ9gAkxiNWH5T8AwCKTug8AAAATYkaflWQ2rh8zzH1p2wAAVGtt7p27jjx6/p0ALByBfh+79+xV1x0ZMASAjV17zRW10e1m9AEm4uor9wmIOlHXAMAiM6MPAAAAS2jejL7N+AAAAGBCpO6zkqyt7Ud6cz/adV/aNgCwqMzoA0yEwLMfdQ0ALDJr9AEAAGAJWaMPMHFS9/tR1wDAIjOjDwAAAEvIjD4AAACsAIE+wERIJ+9HXQMAi0zqPgAAACwhqfsAAACwAgT6AAAAMCECfQAAAJgQgT4AAABMiEAfAAAAJkSgDwAAABOya6cLADvBb2D3s3vP3p0uwsrQrvvStgGARVWttbl37jry6Pl3AgAAADvm2muuqI1ul7oPAAAAEyLQBwAAgAmxRp+VZC1zP9Yx96NdM1XOIwCwNdboAwAAwBKyRh8AAABWgEAfAAAAJkSgDzAR1uj3o64BgEVmjT4AAAAsoXlr9O26DzAhZpr72L1nr7ruyK77ALA1ZvQBAABgCdl1HwAAAFaAQB9gIqSS96OuAYBFJnWflaST3o+1tX1p231o1wDAIpiXui/QB5gIQX5fgn0AYKfZdR9gBQg++zCoAgAsMoE+K0knvR+BZ1/aNgAAAn1WkuCTqdK2+zCgAgAsMrvuAwAAwITYjA8AAACWkM34YIa0236kkvejXfelbQMAi0rqPgAAAEyI1H2AiTCjz1TJngCAjc1L3RfoAwAAwBKyRh9mmPnsx0xcP9o1U+U8AgBbY0YfAAAAltC8GX2b8QEAAMCESN1nJUlx7kfKbT/adV/aNgCwqMzoA0yEwLMfdQ0ALDJr9AEAAGAJWaMPMHFS9/tR1wDAIjOjDwAAAEvIjD7AxJll7kddAwCLTKAPAAAAEyJ1H2BCzDT3Ydd9AGARzEvd39W7IAAwBQZV+jGwAgBbY0YfAAAAlpDN+AAAAGAFSN1nJUm57UfKbV/adh/aNQCwyKTuAwAAwBKSug8wcWbz+1HXAMAik7rPStJJ70eKc1/aNgAAUvcBJuLqK/cZWOnEgEpf2jUAbGxe6r4ZfVaSTno/Ouh9adsAAJjRBwAAgCVkMz4AAABYAVL3WUnSm/uRut+Pdt2Xtg0ALCoz+gAAADAh1ugDAADAErJGHwAAAFaAQB8AAAAmRKAPAAAAEyLQB5gIu+73o64BgEVmMz4AAABYQvM249vVuyAAHD5mmvvYvWfvThcBAGAugT4rSTDUj4AIAAD6kroPMBFXX7nPwEon6hoAWATzUvcF+gAAALCErNGHGVL3+zHr2Ze23Yd2DQAsMj+vBwAAABNiRp+VZDYOAACYKmv0AQAAYAnNW6MvdR8AAAAmROo+K8mGZf1YJtGPdt2Xtg0ALCqp+wAAALCEpO4DAADAChDoAwAAwIQI9AEAAGBCbMbHSrJpWT82LOtHu+5L2wYAFpXN+AAAAGAJ2YwPAAAAVoBAHwAAACbEGn1WkrXM/VjH3I923Ze2DQAsKjP6AAAAMCE24wMAAIAlZDM+AAAAWAHW6LOSrGXuxzrmvrTtPrRrAGCRSd0HAACAJSR1HwAAAFaAQB9gIqTt96OuAYBFJtAHAACACRHoAwAAwITYdZ+VJO22H7uT96VtAwBg132ACRHo97F7z1513ZEBQwDY2Lxd9wX6ABMh8OxL8AkA7DQ/rwcwcQLPftQ1ALDIBPoAAAAwIVL3AQAAYAlJ3QcAAIAV4Of1ACbEhnx9WKMPACwyqfsAAACwhOal7pvRB5gQM/p9mNEHABaZGX0AAABYQmb0ASbObD5TJYMCALbGjD4AAAAsITP6MMPMZz9m4vrRrpkq5xEA2BqBPgAcAsEnALCoBPoAcAhkUPRjUAUAtsYafQAAAFhC89boH9G7IAAAAMDhI3WflSTlth8pt31p231o1wDAIjOjDwAAABNijT4AAAAsoXlr9KXus5KkN/cjxbkvbbsP7RoAWGRS9wEAAGBCpO4DTMTVV+4z09yJugYAFsG81H2BPgAAACyheYG+1H0AAACYEIE+AAAATIhAHwAAACZEoA8AAAATsmunCwDA9rj6yn07XQQ4LPzCAQBsjUAfYEIERH34eT0AYJEJ9FlJZj77EQz1pW0DACDQZyUJPpkqbbsPAyoAwCKr1trcO3cdefT8O2GJ6aT3I/DsS9vuY/eeveq6I+cRANjYtddcURvdLtAHmAjrxvtR1wDAIhDoAwAAwITMC/SP6F0QAAAA4PAR6AMAAMCECPQBAABgQgT6AAAAMCG7droAAGwPP/fWl133AYBFJdBnJQmI+hEMAQBAX35eDwAAAJaQn9cDmDiZKv2oawBgkQn0AQAAYEKk7rOSzMb1Y41+X9p2H9o1ALAI5qXu24yPlaSTDgAATJUZfQAAAFhCNuMDmDhp+/2oawBgkZnRBwAAgCVkRh8AAABWgEAfAAAAJkSgDzAR1o33o64BgEVmjT4AAAAsIWv0AQAAYAVsOqO/rKrqx1prL9rpcqwCdd2Puu5LffejrvtR132p737UdT/qui/13c/U6nqqM/o/ttMFWCHquh913Zf67kdd96Ou+1Lf/ajrftR1X+q7n0nV9VQDfQAAAFhJAn0AAACYkKkG+pNZW7EE1HU/6rov9d2Puu5HXfelvvtR1/2o677Udz+TqutJbsYHAAAAq2qqM/oAAACwkgT6bKqqvrqq/riqPlhVl1XVn1fVvavqtPH+Y6vqgTtdzl7m1Mc3HeAxL6mqO25y/y9W1f23oWxHVNXzq+rSqrqkqt5dVV8/3vdzB/H4Y6rq0htbjp1SVZ+vqovG9//6qrr5jXius6vq+A1u//Mb87zLYF09vraqvmTOcTe6LqrqPlX16aq6sKr+tqqefWOer5eqalX1nJl/P6mqnrFNz/3yqvqB7XiuA7zOw6rqfVX11nW3H1NVV49t4LKqekVVffEhvsbxVfX87SlxH9t1HqmqPWvXSYDDbV6/ZRVt9TxeVTevqp+c+fdkzt/bGuhv4wXyZ+Z1Lns5mDLM6+hW1TOq6kmHr3R9VFUlOT3J2a2127bW7pjk55K01tpaR/TYJCsR6G9SH1+12eNaa49rrV22yf1Pb629eRuKeHKSPUnu0lq7c5KHJPm38b4DBvoTcHVr7djW2p2S/EuSn9ruF2itPbC19m8HPnKpzdbjNUl+fPbOGhyxjXWxr7V2XJLjkjyoqr5tG57zcPtsku+vqlvtdEFmVdUXbeHwxyb5ydbaiRvc98HW2rFJ7pzka5I8/FDK01o7v7X2hEN57A7alvNIa+3Kmeskm9hokHmtHzUOfH147Fu+p6ruN3PMAQObqvrO8bEXVdVVVfX+8e9XzBzzvKq6oqpWcvKrqq4a/782yHfhOAh4XlU9apPHPWambq8ZJxguqqpfmznmz6rqnT3eB8zY6nn85kmuC/SndP7e7pPadnW0fybJtgT6VbXrcJVhBTr9Jyb5XGvthWs3tNYuSvLRcTDnyCS/mOTk8eR+clX9XVV9ZXLdDPPfL1pn+EbYsD5aa/vGmckz126vqhdU1aPHv88eZ7a+aOy0rM24P3G8/7oZvKq6vKp+oaouGI+5w3j7l1bVy2qYpb+wqh68Qfluk+TjrbUvjGX7WGvtX8eL7u7xM3pVVT2zqn56pqy/XFXX64yPZT11fL2Lq+p/bFMd9vLOJEcnSVUdVVVvmanTB4+3HzN2Zl5cVe+tqrOqavfsk4xt+Per6pfGf19eVbfa7LFVdcJYZ+8c63BpsySS7Etyu5n3+9tJLkjytWt1kSRV9cjxPb+nql453vaVVfUnYxt694EC+Nba1Ukuyv7P7R5V9Y6xvb+jqm4/3v7oqnpdVf3FeL759bXnqKrHVtUHxu/ci6vqBYdSloNwbYYNe564/o5aNyM/04m+T1W9rapeM5bx16rqETV0pi+pqtvOPM39q2rfeNyDxsdv+J0cn/etVfWHSS7ZoDynjM9/aVU9a7zt6UnuleSFVXXqvDfZWvt8kvOy/zOZV4ZX10xm11gHD62Z8+K8c1gNA+Z3Gf++cCxbxvPU46rqNlV1Tu2fRNh7oA9nG113HhnL9OSZ9/4L423PquvPBD2jqn62ZoLXTertt6vqe8e/T6+ql41/P7aqfmmsszeM36tLq+rkju99kTx5HHj6mSQvPNDBs1prbxr7pccmOT/JI8Z/PzIZzvEZBsU/muTe21zuZfTB1tpxrbVvTvKDSZ5YVY/Z6MDW2u/N1O2VSU4c//2UZJglTXK3JDevMbtw1Wz0Ha6qp4/ngkur6kVVVeOxZ1fVc8fz3ftq6Eu8brzOrfVBjqkh++33x3PJabXBpGRVnVRDH+SCGjLzjur93hfIAfuDSX4tyW3H68yp687fW+5zLJLDOXp5MBfIjb4AT8gwK/nWGlMKq+p3qur8GjrUvzDznLMdzeOr6uzx72eMX56zkrxi/MD2jR/sBVX138bj7jN+OKeNX5xX1eAGZdjIutd/Wg0jxW9OcvvtrMgddKckfzPvztbaNUmenuTV48n91Un+IMkjxkPun+Q9rbVPHvaS9rFpfRyEY5Mc3Vq70zjj/ntzjvtka+1uSX4nyVpmyNOS/FVr7YQMAw6nVtWXrnvca5J8z3iiek5VHZck40V3bRDuEUlemuRRyXWdnB9M8qp1z/XYJJ8eX++EJD+6LBfqGmY175fkjPGm/0zykLFOT0zynLULa5JvTPJbrbVvyZD98NCZp9qVoV4+0Fr7+Q1eat5jfy/Jj7fW7pnk89v3zvqqYZD0u7I/eLx9kleMncCPzBz3LRna531ba3dNsjaI9Lwkzx3b0EOTvOQAr3eLDHV6znjT3ya59zjb//QkvzJz+LEZMljunGGg8Wurak+S/5PkW5N8R5I7zBy/pbIcpN9K8oiqutkWHrNWP3dO8sNJvqm1do+xPI+fOe6YJN+e5LszBOM3zebfyXskedqYZXSdsU6eleS+GershKr6vtbaL2Z/0PPkeYUdX/e/JvmL8aZ5ZfjjDJ9HahgAvl+SP1/3dPPOYeck2VtVX55hAGVtEOZeGQaafijJm8Zg4q4ZBoMOu/Xnkao6KUP7vEeGurx7Vd07M+999PAkr133dPPq7ZwkawMXRydZ+/zW3vsDklzZWrvrOIHyF1lt1+tXbpMTk1ya4Xp7yjY/91JrrX0oyf9KcqhZOQ9N8voM35Ef3K5yLZmNvsMvaK2dMP57d5IHzRx/TWvt3hkGtP4sw4TpnZI8uqq+Yjzm9kle1Fq7S5J/z8xMdJKMccnPJ7n/2O85P8PnuHK20B98SsZMtjnXxK32ORbGYQn0t3CBvMEXoLX2/OwfGVxLKXxaa+34JHdJ8u01jv4fwN2TPLi19kNJ/inJd4wf7MlJZtcMHpdhlPiOSb4hybfNKcNm7/fuGU5ixyX5/gwX8lX1siSPHP/+kcwPZlfRh5J8Q1X9ZlU9IMMJeiOvG///Nxk6/ElyUpKnVNVFSc5OctMk/2X2Qa21j2W4ADw1yReSvKVm0hxnjrs8yafGgYCTklzYWvvUusNOSvLI8fXOTfIVGb7Di2z3WN5PJbllkr8cb68kv1JVFyd5c4aO4tpyiw+PWSrJ9es7SX43yaWttV+e83o3eGwNMxhf1lp7x3j7H97I97QT1urx/CT/kGFgKEk+0lp71wbH3zfJaWsDeq21fxlvv3+SF4zPdUaSL6+qL9vg8XvHz+Yfk5zZWvvH8fabJXntOKr+3CTfMvOYt7TWPt1a+88klyX5ugzXl7e11v6ltfa5XD/YOtiyHLTW2r8neUW21gl+d2vt4621zyb5YJKzxtsvyfXb3mtaa19orf1dhvPGHbL5d/K81tqHN3i9EzIsNfrn1tq1GQauDmbW8rYz36V/aK1dPN4+rwxvTHLfqrpJhsGhc8YMjVnzzmH7xjLdK8kbkhxVwwzVMa219yd5d5LH1LAHwp1ba585iPLfGPPOIyeN/12YIavlDkm+sbV2YZJb17Cm865J/rW19g/rnnNeve3L0P7vmKEdf6KqbpPknknekaFd3L+GrIG9rbVPH763vRQekORPt/k5T0nyRxmW5T2oDnE/iglba+uHYq1u/yirO4iy0Xf4xKo6t6ouyXD9nL22nTHzuPfOXC8+lORrx/s+2lp7+/j3H2Q4d8761gwxzdvHc86jMlwjV8mh9Ac3s9U+x8I41LT2edYq9pgMHd+NLpBJclT2X+SeXUM64ZmttX1znvfhVfVjY3lvk6EBXzzn2DVnzHQ0vjhDJ+/YDDNss5unnTcGSJkp+18f+K1ez94kp7fW/mN8njMOcPyyeG+SLa1Raa19tKo+UVX3zTAT9IgDPWaJbFYf1+b6A2c3XX/AmEZ/1yTfmWGU9uEZBkPW++z4/89n/3e0kjx07PjONV4Q3pjkjVX1iSTfl+QtGxz6kiSPTvLVGQZn1qskj2+tvWmz11swV7fWjh1nWM/MUMfPz9AGvzLJ3Vtrn6uqy7P/8/nszOM/n2F0fc07MlyQnzOe3Nfb6LG1wXHL5upx9vQ6YwLE/5tzfCXZ6Hdaj0hyzw0CvvX2tdYeVMOmln9dVaePAyjPTPLW1tpDquqYDMHhmvV1vyub1/3BlmWr/m+GjvDsgOZ154JxpuDImftmy/2FmX9/Ide/Hq+vz5Y538mquk82/2wOxQfH79JtkpxdVd/bWjtjXhnGcpyd4dx2coaO/UZlucE5bMwAOD5DR/Yvk9wqyY9mzJ5qrZ0zTgx8d5JXVtWprbVX5PCZdx6pJL/aWvvdDR5zWoZrw1dnmL1cb7N6u0WGAPacDB3Shye5ahzQ+Mw4kfDAJL9aVWeN2RhTM+93ntduP7WGdNlbZwhitsXY9h6Y5Imttc9U1bkZ+qpv2K7XmIBDOodU1VcluV2Sv26ttaq6tqru1Fpb5qVsW9Za+8D673CGc8rxY3/5Gbl+f3H2mrD+erF2jdjo+jCrkvxla21VB1eSQ+sPbmarfY6FcVjW6GcY6Tgy+9for10gjx3/u11r7aWttQ9kmHm/JMMX4Onrn3BMb3tSkvuNaSpvyP4PZTa4Wv9BzXZ8npjkExnS/o7P/I7XbGC1VfMuVMvsr5LcpKp+dO2Gqjoh1x8Z/EyS9TNjL8kwyviaNqzxnIoN66Oqvj3JR5LcsapuMp5YbjCTPqZTHdFa+5MM6T5328JrvynJ49dSzsfZ+PXPf7cxlWgtJf8uY7mS5HPrZipOz9C5PGF87o1e7yfWHlNV31Q3XCqwkMYR8yckedJY/psl+afxpH5iDn5k+6UZ0o9fWwe510dr7V8zdM7XOqOrkK74lgyDsV+RJFV1y/H2s5L8z7WDxoHWucbrwa8m+d/jTTdLcsX496MPohznZcj4usX4ec0uw9hSWQ7WmL3wmgyp2Wsuz3BdS5IHZxho3qqH1bA/xG0zZJq9P4f2nTw3Q53casy0OyXJ2w62EK21j2dIaXzqeNNmZfjjJI/JMPA975xyg3NYG5aAfTRDgPuuDBMATxr/n6r6ugzf3xdn+E5u5bx5yDY4j7wpyY/UuNa1qo6uqluPh6+lJv9AhqB/vc3q7Z0ZsgrPyQ3f+54k/9Fa+4Mkz06n974DPpXkFutuu2WStWV/T84QNP58kt/fxtd9QIbzzCVjh/9eWd2Z53mOS/K+Q3jcyRk+0w+PdXtMVuN6eD2bfIc/OZ5LDmXDt/9SVfcc/z4lN5ycfFeSb6uq241l+JI6wK9DTdUW+oMbxTIHslmfY2EcltT9g71AbvIFmK3wL88QtH96HCH8rpmXujz7O1SbVfDNsn+Tsh9OcjA7E2/lQz8nyUOqancN6aDfc5CPW2ittZZhk5rvqOHn5N6b5BkZljWseWuGAPei2r9R0BkZsjYmlba/WX201j6aocN/cYb02As3eIqjM8yOXZTk5dnfeT4Yz8wQMFxcQyrzMzc45tZJXj/ef3GGgbC1jUFeND72VeN7uSbDZzdvMOYlGdKTLhif73ez/RlAh82YTvue7N9/4PiqOj/DaO7fbuF5fiPDjO0r6+B3ZH5skhfVsNNwJZl0um1r7b1JfjnJ26rqPUl+Y7zrCRnq/eKquizrdu+f44VJ7j0O8P56hgHgt+cgztmttSsyrOM/N0NK3mXZX/eHUpaD9ZwMs9BrXpzh4n9ehqymebPtm3l/hoD8jRn2e/jPHMJ3cgzUn5rhu/6eJBe01v5si2X50yRfUsMmeJuV4awMKfhvHs8v6212DtuX5BNjVty+DDv9r2X43SfJRVV1YYbr/PO2WP5DNnseaa2dlWEpzjtrSLk9LWMfYfwOfFmSK8Y6X2+zetuXZFdr7e8znGtumf3v/c5JzhuvGU9L8kvb/y53XmvtqiQfr3Gp2ThY+IDMBDBj/+15SY6oqu/cppc+JcnjWmvHtNaOSfL1SU6qHf7Vp0VRQybVs5P85iE8/JQkD5ip27Ulrqtmo+/wizNMcP5phqVJW/W+JI+qIf38lhn2l7hOa+2fMwyO/9F4zLuyoOvHeziY/mAblq++vYb94uZuULvueTfrcyyMGmKXbXqyqqtaa0fN/Pv1GQKJV9awy/fjxruuSvLfM4zQnpohJeVzSX6itXZ+VT0+QzbAx1trJ1bVyzN0mD6UYQb+jNbay8eOx0szzNafmyEV5j5jKsxVrbVnj+X4xiR/kuQ/MnR4Ht9aO6qGlMcntdbWdjV+QZLzx+e+XhnmvN/Lx9f8ZFU9LcPa9I8k+ViSy9Zef9XU8HM3z22t9dwdmS0Yg9YLkjysDeuA2SZVddTYcU1VPSXJbVprP32Ah7EN1up+HF0/PcnLWmun73S5gM3VsE/Bb2X/zP6prbVXjf2/M1trp43HPTTDz0Ler4blIt+cof+YJO9srT1sk9c4O0Of7/wxmP9Yhr0g/n3mmNdl2GD41ZyGMjQAAAD1SURBVNv6BhfYWt99DOzflyH4uWmGCa/faa0dcNJmXX/4mCRvT/I1bSbIqKoLMvTzz93u97Aqxro9sw37mrHDlqHPsa2BPoyBzU9k2M15q3sd0MHYoTozw74SP7vT5ZmaMbPlqRlm7D6S5NHjCDuHWVU9O8PGezfNMMP8081FDoAJEOgvlmXocwj0AQAAYEKWZs3tTqphJ9abrLv5h1trl2x0PAAA/Yxr95+17uYPt9YeshPlmZKqekyS9UvQ3t5a+6mNjgcWgxl9AAAAmJDDsus+AAAAsDME+gAAADAhAn0AAACYEIE+AAAATIhAHwAAACbk/wPpKi9ktXoEbwAAAABJRU5ErkJggg==\n",
      "text/plain": [
       "<Figure size 1296x360 with 1 Axes>"
      ]
     },
     "metadata": {
      "needs_background": "light"
     },
     "output_type": "display_data"
    }
   ],
   "source": [
    "fig, ax = plt.subplots(figsize=(18, 5))\n",
    "sns_heatmap = sns.heatmap(\n",
    "    data.isnull(), yticklabels=False, cbar=False)"
   ]
  },
  {
   "cell_type": "markdown",
   "metadata": {},
   "source": [
    "Признаки 'Cuisine Style', 'Price Range', 'Number of Reviews' имеют пропуски в данных."
   ]
  },
  {
   "cell_type": "markdown",
   "metadata": {},
   "source": [
    "### Распределение целевой переменной\n",
    "\n",
    "Оценки распределены на интервале от 1 до 5 с шагом 0.5"
   ]
  },
  {
   "cell_type": "code",
   "execution_count": 9,
   "metadata": {
    "scrolled": true
   },
   "outputs": [
    {
     "data": {
      "text/plain": [
       "4.0    13692\n",
       "4.5    10929\n",
       "0.0    10000\n",
       "3.5     6824\n",
       "5.0     3879\n",
       "3.0     2955\n",
       "2.5      915\n",
       "2.0      466\n",
       "1.0      201\n",
       "1.5      139\n",
       "Name: Rating, dtype: int64"
      ]
     },
     "execution_count": 9,
     "metadata": {},
     "output_type": "execute_result"
    }
   ],
   "source": [
    "data['Rating'].value_counts()"
   ]
  },
  {
   "cell_type": "markdown",
   "metadata": {},
   "source": [
    "## Очистка и подготовка данных\n",
    "\n",
    "### 1. Обработка NAN"
   ]
  },
  {
   "cell_type": "markdown",
   "metadata": {},
   "source": [
    "Сохраним данные о наличии пропусков в отдельные признаки:"
   ]
  },
  {
   "cell_type": "code",
   "execution_count": 10,
   "metadata": {},
   "outputs": [],
   "source": [
    "data['cuisine_style_isNAN'] = pd.isna(data['Cuisine Style']).astype('uint8')\n",
    "data['price_range_isNAN'] = pd.isna(data['Price Range']).astype('uint8')\n",
    "data['number_of_reviews_isNAN'] = pd.isna(data['Number of Reviews']).astype('uint8')"
   ]
  },
  {
   "cell_type": "markdown",
   "metadata": {},
   "source": [
    "Заполним пропущенные в датафрейме значения нулевыми:"
   ]
  },
  {
   "cell_type": "code",
   "execution_count": 11,
   "metadata": {},
   "outputs": [],
   "source": [
    "data = data.fillna(0)"
   ]
  },
  {
   "cell_type": "markdown",
   "metadata": {},
   "source": [
    "### 2. Обработка признаков\n",
    "\n",
    "#### Restaurant_id\n",
    "\n",
    "Данный признак не несет никакой полезной для построения модели информации\n",
    "\n",
    "#### City\n",
    "\n",
    "Проведем ранговую трансформацию по параметру 'City' и добавим новый признак 'ranked_cities':"
   ]
  },
  {
   "cell_type": "code",
   "execution_count": 12,
   "metadata": {},
   "outputs": [],
   "source": [
    "data['ranked_cities'] = data['City'].rank()"
   ]
  },
  {
   "cell_type": "markdown",
   "metadata": {},
   "source": [
    "Узнаем количество уникальных значений в параметре 'City' и посмотрим количество ресторанов в каждом городе:"
   ]
  },
  {
   "cell_type": "code",
   "execution_count": 13,
   "metadata": {},
   "outputs": [
    {
     "data": {
      "text/plain": [
       "31"
      ]
     },
     "execution_count": 13,
     "metadata": {},
     "output_type": "execute_result"
    }
   ],
   "source": [
    "data['City'].nunique()"
   ]
  },
  {
   "cell_type": "code",
   "execution_count": 14,
   "metadata": {
    "scrolled": false
   },
   "outputs": [
    {
     "data": {
      "text/plain": [
       "London        7193\n",
       "Paris         6108\n",
       "Madrid        3813\n",
       "Barcelona     3395\n",
       "Berlin        2705\n",
       "Milan         2694\n",
       "Rome          2589\n",
       "Prague        1816\n",
       "Lisbon        1647\n",
       "Vienna        1443\n",
       "Amsterdam     1372\n",
       "Brussels      1314\n",
       "Hamburg       1186\n",
       "Munich        1145\n",
       "Lyon          1126\n",
       "Stockholm     1033\n",
       "Budapest      1021\n",
       "Warsaw         925\n",
       "Dublin         836\n",
       "Copenhagen     819\n",
       "Athens         776\n",
       "Edinburgh      745\n",
       "Zurich         685\n",
       "Oporto         642\n",
       "Geneva         590\n",
       "Krakow         554\n",
       "Oslo           488\n",
       "Helsinki       475\n",
       "Bratislava     380\n",
       "Luxembourg     263\n",
       "Ljubljana      222\n",
       "Name: City, dtype: int64"
      ]
     },
     "execution_count": 14,
     "metadata": {},
     "output_type": "execute_result"
    }
   ],
   "source": [
    "data['City'].value_counts()"
   ]
  },
  {
   "cell_type": "code",
   "execution_count": 15,
   "metadata": {
    "scrolled": true
   },
   "outputs": [
    {
     "data": {
      "text/plain": [
<<<<<<< HEAD
       "<matplotlib.axes._subplots.AxesSubplot at 0x1a23efc190>"
=======
       "<matplotlib.axes._subplots.AxesSubplot at 0x1a20cf3190>"
>>>>>>> e5b8f3cfcba6ff204a97711356b9ba6b982d76bb
      ]
     },
     "execution_count": 15,
     "metadata": {},
     "output_type": "execute_result"
    },
    {
     "data": {
      "image/png": "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\n",
      "text/plain": [
       "<Figure size 432x288 with 1 Axes>"
      ]
     },
     "metadata": {
      "needs_background": "light"
     },
     "output_type": "display_data"
    }
   ],
   "source": [
    "data['City'].value_counts(ascending=True).plot(kind='barh')"
   ]
  },
  {
   "cell_type": "markdown",
   "metadata": {},
   "source": [
    "Создадим признак rest_counts - отображающий кол-во ресторанов в городе"
   ]
  },
  {
   "cell_type": "code",
   "execution_count": 16,
   "metadata": {},
   "outputs": [],
   "source": [
    "data['rest_counts'] = data['City'].apply(lambda x: data['City'].value_counts()[x])"
   ]
  },
  {
   "cell_type": "markdown",
   "metadata": {},
   "source": [
    "Добавим признак распределения отзывов о ресторанах по городам:"
   ]
  },
  {
   "cell_type": "code",
   "execution_count": 17,
   "metadata": {},
   "outputs": [],
   "source": [
    "data['reviews_in_city'] = data['City'].apply(lambda x: data.groupby(['City'])\\\n",
    "                                             ['Number of Reviews'].sum().sort_values(ascending=False)[x])"
   ]
  },
  {
   "cell_type": "markdown",
   "metadata": {},
   "source": [
    "#### Cuisine Style\n",
    "\n",
    "Cоздадим новый признак по количеству предлагаемых в ресторане видов кухонь и запишем в 'count_cuisine'"
   ]
  },
  {
   "cell_type": "code",
   "execution_count": 18,
   "metadata": {},
   "outputs": [],
   "source": [
    "count = []\n",
    "for i in data['Cuisine Style'].values:\n",
    "    if i == 0:\n",
    "        count.append(1)\n",
    "    else:\n",
    "        count.append(len(i.split(',')))\n",
    "\n",
    "\n",
    "data['count_cuisine'] = count"
   ]
  },
  {
   "cell_type": "markdown",
   "metadata": {},
   "source": [
    "#### Ranking\n",
    "\n",
    "Данный параметр отображает место, которое занимает ресторан среди всех ресторанов города. При этом нельзя одинаково интерпретировать значение ранга для больших и малых городов так как, например, ресторан с рангом 10 может быть одним из лучших в городе где более тысячи ресторанов и одним из худших, если ресторанов всего 15."
   ]
  },
  {
   "cell_type": "code",
   "execution_count": 19,
   "metadata": {},
   "outputs": [
    {
     "data": {
      "image/png": "iVBORw0KGgoAAAANSUhEUgAAAXAAAAD4CAYAAAD1jb0+AAAABHNCSVQICAgIfAhkiAAAAAlwSFlzAAALEgAACxIB0t1+/AAAADh0RVh0U29mdHdhcmUAbWF0cGxvdGxpYiB2ZXJzaW9uMy4xLjMsIGh0dHA6Ly9tYXRwbG90bGliLm9yZy+AADFEAAAcNElEQVR4nO3df5Ac9Xnn8fcjhFiBBAIEayF+rCCEE8UWjtnykeMkr8xFYJyzlIrjECgs2aQUX2IfPpMri/IfiKq7k7kr8PkcsEonXCEU3CKDXVBGJKYEulRShkTCOGuzUcCSTABJ/BJC4pDIouf+mO6ld7Z7pmeme2a+s59XlUozPd3ffvo7vc8+/e0fa+6OiIiEZ0anAxARkeYogYuIBEoJXEQkUErgIiKBUgIXEQnUzHaubP78+T4wMNDUsu+++y4nnXRSsQG1QahxQ7ixK+72CjVuCCf2HTt2vOHuZ1RPb2sCHxgYYPv27U0tu23bNoaHh4sNqA1CjRvCjV1xt1eocUM4sZvZr9KmawhFRCRQSuAiIoFSAhcRCZQSuIhIoJTARUQCpQQuIhIoJXARkUApgYuIBEoJXEQkUG29E1NEpCwDax+beL3nm5/uYCTtowpcRCRQSuAiIoFSAhcRCZQSuIhIoJTARUQCpQQuIhIoJXARkUApgYuIBEoJXEQkUErgIiKBUgIXEQmUEriISKCUwEVEAqWnEXaZ6fhENRFpjipwEZFAqQIXCYCOzBozXfpLFbiISKCUwEVEAqUELiISqFxj4Gb2n4A/BBwYBb4ALABGgNOAZ4Eb3P39kuKUDpkuY4kiIapbgZvZQuA/AkPufglwHHAtcDvwLXe/EDgA3FhmoCIiMlneIZSZwGwzmwmcCOwFPgk8FH1+L7Cy+PBERCSLuXv9mcxuAv4r8B7wY+Am4Gl3/7Xo83OAx6MKvXrZNcAagP7+/stGRkaaCvTw4cPMmTOnqWXzGH3l4MTrwYWnFNZuo3GXFUczDh8+zO6DH0y873Q8saw+iqf3z4YzT2ss1m7o91r7SjfEl6Xsn828kn2UVKu/uiX2epYtW7bD3Yeqp9cdAzezU4EVwCLgbeD7wKdSZk39TeDuG4GNAENDQz48PJw/6oRt27bR7LJ5rE6O9V5f3HoajbusOJqxbds27vibdyfedzqeWFYfxdNvHhzncw3uK93Q77X2lW6IL0vZP5t5JfsoqVZ/dUvszcpzEvPfAbvd/XUAM/sB8G+AeWY2093HgbOBV8sLU6QYOinbPurr8uUZA38JuNzMTjQzA64EngeeAj4bzbMKeKScEEVEJE3dCtzdnzGzh6hcKjgO/JTKkMhjwIiZ/Zdo2j1lBtopA1WHZaFXEmVVRaq2ekcnv0vtR43JdR24u98K3Fo1eRfw8cIjEhGRXHQnpohIoPQ0Qsmt1cPbRpcv+3C6enisiHZqxanhASmaKnARkUD1bAXeLSdi/vzqk9q67tAVVRVLfToiCJ8qcBGRQPVsBd7t8lQ/WdWoqiVpl+lYpYe0zarARUQCpQQuIhKo4IdQuuXStFZOvpVx4q7RIZrkPAOJh0KFuouU8T0X1eaevutgHQwceWDS9JsHxyc/tKrLD9+L0uj+X9T3MLD2sSl9HhpV4CIigQqmvBp95eDEb8qOVibromcLr0t/9nA7NFKxZFV7nRbMiaJ1yWdJd1cfSnt14z6rClxEJFDBVOASpjxHC2WfP9DNQR8qqq+7pQItW7fvO6rARUQCpQpcMg3O2M2evspThBsZQ+/2qiUUoVTL7Tg/1c37VCePTFSBi4gESglcRCRQQQ6hZB1OdfNhVjvt6buu0yH0vCL2teT3VOZlnvq56F2qwEVEAhVkAt/Td13Hq0xVNa3rhu+xVb2wDWWa6J9JN0RJUYJM4CIiEugYeFFaGUuPb1EHWrqtvpFx0HjebrstXrpTJ/aXvEemZfw90nbqliNwVeAiIoFSAhcRCdS0HkLJK+9JqnZdFjYd9EpfdsOhdqh92Q191+1UgYuIBEoVeDu08AzxXrtErdntUTXW/epV+voOi6cKXEQkUD1TgadVdmlVQCnjgetOYU9fMU3lUcY2qDoqRln9mPuSwOhor23747pTGLzotomnVsZ67cixW6kCFxEJlBK4iEigemYIpRm6s7F5oQy5dOISuumwX8XffzuHDmUqVeAiIoGa1hX4dFJUJZp1cqqXqs1JfyIrUWH2UmUd6s093a7df15NFbiISKCmRQWeVVHVU8SlUKOvHGQ4JY5uoCos3XS7BG7iyZotPFVTpmpHNa4KXEQkULkqcDObB2wCLgEc+CKwE3gQGAD2AJ9z9wOlRFmAXq2qyqii4za3cVvqehptp9W4um3suZmHm4VGV++EIW8F/m3gL939XwGXAmPAWmCru18IbI3ei4hIm9RN4GZ2MrAUuAfA3d9397eBFcC90Wz3AivLClJERKYyd689g9lHgY3A81Sq7x3ATcAr7j4vMd8Bdz81Zfk1wBqA/v7+y0ZGRpoK9LW3DrL/vcrrwRm7ARg9tmji83haUr3P0+ZLqrVMPXGb/bPhzKNT401bR954662z3rJ55zt8wlnMOfpqUzEk22/ke2p0vjT9s5myrzSyfCt938ryybizYho9tojBhTX+QPDe53LF2cjPS73vJ+9+UvT3nFdWf42+crBmn7cjhryWLVu2w92HqqfnSeBDwNPAFe7+jJl9G3gH+EqeBJ40NDTk27dvb2oDvnP/I9wxWhmyTxsrq/cwq1rjkVljbq2MYcZt3jw4zlde+HzmerLGGptZd7x8vWXzzrftotsY3nlrzXmy2k6238j31Oh8aW4eHJ+yrzSyfCt938ryybizYho48kDtKxrq/PX3Wt991jbU+37y7idFf895ZfXXwNrHavZ5O2LIy8xSE3ieyF8GXnb3Z6L3D1EZ795vZgvcfa+ZLQBeaylCEWlYO28caddJ2aJPoHbb5btFqjsG7u77gH82s4uiSVdSGU55FFgVTVsFPFJKhCIikirvscNXgPvNbBawC/gCleS/2cxuBF4Cfq+cEJvXyqVvvazbtrFbKrvQ+2Vg7WM9+3Ap3XSWLlcCd/fngCnjL1SqcRER6QDdiSkiEqhp8SyUerrt0Fnq0yF18bJ+Dor6+dDPWfFUgYuIBEoVuBSqk1XWxDNcZtwGXJhr3l6o3lXZTl+qwEVEAhVMBT44Yzd7+hq7K7CTJleDjS3T6jp7VSPbF1pf7Om7LteRg0iSKnARkUApgYuIBCqYIZQ0IR4mx3rh5FleoX1PIqFQBS4iEqigK3AR6W06eqtNFbiISKBUgbdocNG5jO5+qdNhyDSxp+86WFd53cx5FFW0vUUVuIhIoFSBd4gqoeK00pf6HiRkqsBFRAKlBC4iEigNoXSpwUXnAugEaSA68cxsDf+IKnARkUApgYuIBEoJXEQkUErgIiKBUgIXEQmUEriISKCUwEVEAqUELiISKCXwHAYXnTtxY0236mR83d43Ir1KCVxEJFA9mcCrK+axkbM6tu7nZ81q6/ryzN/MOrpBvK3dEo9Ip/VkAhcRmQ6UwEVEAtVzCbyXD6+7Yfgguf5W4qm3XDdsq0i367kELiIyXSiB09tVu0yl71t6hRK4iEiggkvgnbwksFttXj8+6X0ZcSfbbHXsu8jLHkP4fkTKElwCFxGRitwJ3MyOM7OfmtmPoveLzOwZM3vBzB40s1LvWHl+1qzCqq12VvHtFMoRQ1nGRs4q/Lud7n0q3a2RCvwmYCzx/nbgW+5+IXAAuLHIwEREpLZcCdzMzgY+DWyK3hvwSeChaJZ7gZVlBCgiIunM3evPZPYQsB6YC/wpsBp42t1/Lfr8HOBxd78kZdk1wBqA/v7+y0ZGRpoK9PW3X+f1D17n/H1O32n/kjlf8tkjF7//PgBH3jp+ynzJNp6fNWti3qy2ku1Vz5OcHi8TT3t99kLOeO+VzHjTlknbhng7dn3Epqzv/H3Oro/YlHar401bPp5e3R8A59p85hx9NdfzXNL6plbbtZZJmy/+DuPtTPZV9fc8vuAM5hx9tWbbtdadFkfe+Vtx+ISzasbdrdod9+ixRYW11T8b9r9XWHOZBhee0tLyy5Yt2+HuQ9XT6yZwM/tt4Bp3/2MzG6aSwL8A/KQqgW9x98FabQ0NDfn27dub2oC7H76b7x7+LpvXj7P42uydJTleObr7JSB9zDvZxuCicyfmzWor2V71PMnp8TLxtLsH1/PHo7dkxpu2TNo2xNvxuVtmTlnf5vXjfO6WmVParY43bfl4enV/AHxn1o0M77w11xhwWt/UarvWMmnzxd9hvJ3Jvqr+nvff+kcM77y1Ztu11p0WR975W7Htottqxt2t2h33wJEHCmvr5sFx7hid+rNTtD3f/HRLy5tZagLPM4RyBfAZM9sDjFAZOvmfwDwzi7f8bKCjpUMrJ5s2rx+fkuTTkn7WSbKsdcfzFn0iLG97nTpZ2+h64+2J+7cdfdXM5Yw6oSndpm4Cd/db3P1sdx8ArgWedPfrgaeAz0azrQIeKS1KERGZopXrwL8OfM3MXgROB+4pJqTGhXJ5Yd4qbvP68Sk357QaW9Y6q6cXXf0mteuIoHrMvrovRXpFQ4M/7r4N2Ba93gV8vPiQREQkD92JKSISqPJPvwYm6zA/eRie96qVrDbSrhjZvH6cMc6qeYVNo+vrFnGcmxnnSz/5NgAbfvOm3Ms3O/QyNnIWmxmfiKEdV5KItJMqcBGRQAWTwM/f5w2fjMpzwrBWddfKya8i/1LNXft+mHv5rJhXbzmvqXjKEsc5NnJW6knb6vkacf6++jenxXRpoIQsmAQuIiKTBZnA816KF4K07Xhy+K6G23l87O6J18mKtrqv0m5aanQ9RVXzRV1WmLeKrjWfqnAJUZAJXERElMBFRILVUwm80UP75GHzlksvYMulF+RabvP68YnD8XioIr48Lh6+qDeEEz/7I2u+LZdewOot500MM1QPq+QdIorjSlt/HvVO8ibjSD4rpl77zQwTJbXj5KOGVaTb9VQCFxGZTnoigeepeKsNLjq3rZfWxfHFlXVRbTZ7snb1lvN4+ciPci1fbz3deMK4lepZlxZKKHoigYuITEdBJvC44rtjbAl3jC1pqY1qWy69INf4bLIqbbUCbceRwO8v+jpzV26cMr3ZsfVukIy1Ou6QtkOkWUEmcBERCTCBx1Vkrao1eVMLVKrMJ4fvmli2kSsgNq8fZ/WW8yZdoZJWySbFV7Rkzff7i74+0U4jsTw5fFfN7f7ST749sa1J1dVoVlx3jC1hy6UXZFavyX6tvrolvvok75U8tdQbb29l7L8WjX1LaIJL4CIiUqEELiISqGAS+HHzmjvR9/jY3ayYdzwr5h0PfHiInxxOqTWMUcSQQNrQRvUwT72Tp3H8acsWIe2Jh8k/TVY97HLkwJ2T3tcbCsq6oShLWcMkIr0kmAQuIiKT9UQCT1aHeSq9ZDWbfN2oPNX56QdnceTAnVMq1jTV88QnO7PUO5maV1w9V6/vjHfPqbtcWuWd1S9FHM2IyId6IoGLiExHPZ3AGx0rTlagc1duTK1w4yoyrjwbeQhWmuojgMfH7p5SiSfnSV6CGMeRXH+y2n9y+K4pbVXHGp8fiOeL29+8fpxj4/ub3q7Yk8N3NTz+LSL59HQCFxHpZUrgIiKBCiqBx8MGaUMW8bQ8JwtbUevEYr0hm7JjS2rkztE0zT6vO9k/8XBQ1na3+kxwkekuqAQuIiIf6tkEnnVisd6leWnzx8vkqRiLriqrT1DWUuvkZz3Jfqmu3qsr+OS8K+Ydn1rhZ92EU/RRiG74kemsZxO4iEivm9npAMqwqW8rcxuYP29VeOTAnTAvXwWfrFKTrx/cfXsDkWW3We/zVtZTtiMH7qTv1K91OgyR4KkCFxEJlBK4iEiggk/g8bBB3pOTm/q2Tlk2+frQ4qFJJ/+S8ydlnTBs9STdzuWrJ70/tHiopfZacdoJH6n5eXJbq0+Y6rknIuULPoGLiExXPZXAs04clt1+rXXVq2LbrdEjllbWISLl6qkELiIynQSZwOObazo5PhyPjafF0Gxc8XKHFg/VrGKT4/Ir5h1fSsVbbyy/0XW28zECItNFkAlcRERyJHAzO8fMnjKzMTP7hZndFE0/zcyeMLMXov9PLT/cxiQr1ayrSaDYMdtkW8l1xleXpFXnZY/XN7NsnuWr5ynqLwSJSD55KvBx4GZ3XwxcDvyJmV0MrAW2uvuFwNbovYiItEndBO7ue9392ej1IWAMWAisAO6NZrsXWFlWkCIiMpW5e/6ZzQaAvwYuAV5y93mJzw64+5RhFDNbA6wB6O/vv2xkZKSpQA+9dZC+947jyMl7JqYdPnw6APOPffjkk7eO7uPY7JOYf2wub8w4NPFZ/PqNGYd4fc48zjj8NnPmvMluLmDxOx9MLF+9TNz+W0f3TVwSmJyenD/tsxNPnMmJh2dz5OQ99L0zMPF5Vtxz5rzJ4cOnp8ZdPS1N9WfJuBt1ZPYH9L13XFPLxut96+i+1M9nzOwHYO6hl5pqv5b3zzyTWa+9Nmnaro9YYe1f/P77hbWVdPiEs5hz9NVS2i5Tu+MePbaosLb6Z8P+9wprLtPgwlNaWn7ZsmU73H3K+Gvuh1mZ2RzgYeCr7v6OWb4fCHffCGwEGBoa8uHh4byrnOSJ+3/E4tFT2Ln8WxPTduy4AYAlR66cmPbg7g0cWjzEkiNXsqlv+8Rn8etNfdvZ8ImVfGnHMyxZeh//zR5m+99+mFSrl4nbf3D3Bq6IxnyT05Pzp3122WXzWTx6KTuXf4uL/vbPJz7PjHvpfezYcUNq3NXT0lR/loy7UWODB1k82tyOF6/3wd0bUj+PH2Z1ybY/a6r9Wn71lS9z3ncmt/ufbynuuW2ju4v/pQOw7aLbGN55ayltl6ndca8+8kBhbd08OM4do+U/02/P9cOltJvrKhQzO55K8r7f3X8QTd5vZguizxcAr2UtX6YlS++beD101dyJE2vVt6Snud4ezt1+npN61SdKk7HV89E/GssdU9q6NvVtnZhW64Rtu+hmHpHy5bkKxYB7gDF3T17M+yiwKnq9Cnik+PBERCRLngr8CuAG4JNm9lz07xrgm8BvmdkLwG9F79tqwycq503zVpxDV82dWCZNddUeV9Bp7cftVFfZGz6xkiVL70u9hHHoqsnj1kNXzc11pJBnniyqhEV6V93BH3f/GyBrwDt9IFZEREqnOzFFRAIVVALPM1SyqW/rpGGNTX1b2bl8dc0Tipv6tk4a3ti5fPWk98lldy5fPTF8Eg9txEMhyfmSr6uHbZYsvW9KjMn54s+SQydLlt435b2ITG9BJXAREflQcAk8vswu7+V2WZVqo9Mbdb09nCvG6+3h1HVWn/BMqp6/Gy4bFJH2Cy6Bi4hIRTAJ/I0Zh2peAhhLmydvtZ7lent4Yiy90xqptlWZi/S2YBK4iIhMpgQuIhKoYBL4nDlv1vy83vBG3mGUWvNVf5Y8UZm13G4umPS+0ZOkGz6xMrPt5PNPRGT6CSaBi4jIZMEk8GQlW12RZp3cbPaSwGT78es8J1CL0uilkiIyPQWTwEVEZLLyn2ResqwqtZHqdcnS+9hA9lhzo7GktVNd1d/vv5v6WT15jyo0Ni7S+1SBi4gEqicTeJljxxqXFpFu0ZMJXERkOlACFxEJlBI4xZwIFRFpNyVwEZFA9UwCD61aDi1eEek+PZPARUSmm2mbwDtVAavyFpGiTNsELiISOiVwEZFAKYGLiARKCVxEJFBK4CIigVICFxEJlBK4iEiglMBFRAKlBC4iEiglcBGRQCmBi4gESglcRCRQSuAiIoFSAhcRCZQSuIhIoFpK4GZ2tZntNLMXzWxtUUGJiEh9TSdwMzsOuAv4FHAx8AdmdnFRgYmISG2tVOAfB150913u/j4wAqwoJiwREanH3L25Bc0+C1zt7n8Yvb8B+Nfu/uWq+dYAa6K3FwE7m4x1PvBGk8t2UqhxQ7ixK+72CjVuCCf289z9jOqJM1to0FKmTflt4O4bgY0trKeyMrPt7j7UajvtFmrcEG7siru9Qo0bwo4dWhtCeRk4J/H+bODV1sIREZG8Wkngfw9caGaLzGwWcC3waDFhiYhIPU0Pobj7uJl9Gfgr4Djge+7+i8Iim6rlYZgOCTVuCDd2xd1eocYNYcfe/ElMERHpLN2JKSISKCVwEZFABZHAu+mWfTM7x8yeMrMxM/uFmd0UTV9nZq+Y2XPRv2sSy9wSxb7TzK5KTG/7dpnZHjMbjWLcHk07zcyeMLMXov9Pjaabmf2vKL5/MLOPJdpZFc3/gpmtKjnmixL9+pyZvWNmX+3WPjez75nZa2b288S0wvrYzC6LvsMXo2XTLuktKu7/YWb/GMX2QzObF00fMLP3En2/oV58WX1QUtyF7RtWuVDjmSjuB61y0UZ3cPeu/kflBOkvgfOBWcDPgIs7GM8C4GPR67nAP1F5lMA64E9T5r84ivkEYFG0Lcd1aruAPcD8qmn/HVgbvV4L3B69vgZ4nMo1/5cDz0TTTwN2Rf+fGr0+tY37wz7gvG7tc2Ap8DHg52X0MfB3wG9GyzwOfKrEuJcDM6PXtyfiHkjOV9VOanxZfVBS3IXtG8Bm4Nro9QbgP7RjX8/zL4QKvKtu2Xf3ve7+bPT6EDAGLKyxyApgxN2Puvtu4EUq29RN27UCuDd6fS+wMjH9L7ziaWCemS0ArgKecPe33P0A8ARwdZtivRL4pbv/qsY8He1zd/9r4K2UmFru4+izk939J17JKH+RaKvwuN39x+4+Hr19msr9HpnqxJfVB4XHXUND+0Z09PBJ4KGi4y5CCAl8IfDPifcvUzthto2ZDQC/ATwTTfpydKj5vcThYVb8ndouB35sZjus8pgDgH533wuVX1DAmdH0bosdKvcb/J/E+xD6HIrr44XR6+rp7fBFKhV1bJGZ/dTM/q+ZLYmm1Yovqw/KUsS+cTrwduKXWNfkHwgjgee6Zb/dzGwO8DDwVXd/B/gucAHwUWAvcEc8a8riXmN62a5w949ReYrkn5jZ0hrzdlXs0djjZ4DvR5NC6fNaGo21U33/DWAcuD+atBc4191/A/ga8ICZndyp+FIUtW90y/akCiGBd90t+2Z2PJXkfb+7/wDA3fe7+wfufgz431QOySA7/o5sl7u/Gv3/GvDDKM790aFvfAj8WjR7V8VO5ZfOs+6+H8Lp80hRffwyk4cxSt+G6ATqbwPXR8MiREMQb0avd1AZP/71OvFl9UHhCtw33qAyrDWzanpXCCGBd9Ut+9GY2D3AmLvfmZi+IDHb7wDxGfFHgWvN7AQzWwRcSOUkT9u3y8xOMrO58WsqJ6h+Hq03vsphFfBIIvbPR1dKXA4cjA59/wpYbmanRoemy6NpZfsDEsMnIfR5QiF9HH12yMwuj/bFzyfaKpyZXQ18HfiMu/+/xPQzrPI3ATCz86n08a468WX1QRlxF7JvRL+wngI+2464G9bps6h5/lE5U/9PVH7Lf6PDsfxbKodQ/wA8F/27BrgPGI2mPwosSCzzjSj2nSSuGGj3dlE5w/6z6N8v4nVSGefbCrwQ/X9aNN2o/NGOX0bbNpRo64tUTgC9CHyhDbGfCLwJnJKY1pV9TuWXzF7gX6hUdjcW2cfAEJWE9Evgz4juqC4p7hepjA3H+/qGaN7fjfahnwHPAv++XnxZfVBS3IXtG9HPzd9FffF94ISy9/e8/3QrvYhIoEIYQhERkRRK4CIigVICFxEJlBK4iEiglMBFRAKlBC4iEiglcBGRQP1/SZ0nN8XjEBcAAAAASUVORK5CYII=\n",
      "text/plain": [
       "<Figure size 432x288 with 1 Axes>"
      ]
     },
     "metadata": {
      "needs_background": "light"
     },
     "output_type": "display_data"
    }
   ],
   "source": [
    "for x in (data['City'].value_counts())[0:10].index:\n",
    "    data['Ranking'][data['City'] == x].hist(bins=100)\n",
    "plt.show()"
   ]
  },
  {
   "cell_type": "markdown",
   "metadata": {},
   "source": [
    "Чтобы правильно интерпритировать данный показатель введем относительный ранг 'relative_rank':"
   ]
  },
  {
   "cell_type": "code",
   "execution_count": 20,
   "metadata": {},
   "outputs": [],
   "source": [
    "data['relative_rank'] = data['Ranking'] / data['rest_counts']"
   ]
  },
  {
   "cell_type": "markdown",
   "metadata": {},
   "source": [
    "Еще добавим параметр 'relative_rank_reviews' - ранг ресторана относительно количества отзывов о ресторанах в городе:"
   ]
  },
  {
   "cell_type": "code",
   "execution_count": 21,
   "metadata": {},
   "outputs": [],
   "source": [
    "data['relative_rank_reviews'] = data['Ranking'] / data['reviews_in_city']"
   ]
  },
  {
   "cell_type": "markdown",
   "metadata": {},
   "source": [
    "#### Price Range\n",
    "\n",
    "Данный параметр отображает уровень цен в ресторане. Всего есть 3 категории цен и достаточно много пропущенных значений:"
   ]
  },
  {
   "cell_type": "code",
   "execution_count": 22,
   "metadata": {
    "scrolled": true
   },
   "outputs": [
    {
     "data": {
      "text/plain": [
       "$$ - $$$    23041\n",
       "0           17361\n",
       "$            7816\n",
       "$$$$         1782\n",
       "Name: Price Range, dtype: int64"
      ]
     },
     "execution_count": 22,
     "metadata": {},
     "output_type": "execute_result"
    }
   ],
   "source": [
    "data['Price Range'].value_counts()"
   ]
  },
  {
   "cell_type": "markdown",
   "metadata": {},
   "source": [
    "Добавим на основе 'Price Range' новый признак 'restaurant_level' и заменим пропуски на самое популярное значение:"
   ]
  },
  {
   "cell_type": "code",
   "execution_count": 23,
   "metadata": {},
   "outputs": [],
   "source": [
    "restaurant_level = []\n",
    "\n",
    "\n",
    "for i in data['Price Range']:\n",
    "    if i == '$':\n",
    "        restaurant_level.append(1)\n",
    "    elif i == '$$ - $$$':\n",
    "        restaurant_level.append(2)\n",
    "    elif i == '$$$$':\n",
    "        restaurant_level.append(3)\n",
    "    else:\n",
    "        restaurant_level.append(2)\n",
    "\n",
    "data['restaurant_level'] = restaurant_level"
   ]
  },
  {
   "cell_type": "markdown",
   "metadata": {},
   "source": [
    "#### Number of Reviews\n",
    "\n",
    "Признак отображает количество отзывов о ресторане. Имеет небольшое количество пропусков, которое мы заполнили нулевым значением. Оставляем этот признак как есть."
   ]
  },
  {
   "cell_type": "markdown",
   "metadata": {},
   "source": [
    "#### Reviews\n",
    "\n",
    "Содержит данные(текст, время публикации) о 2 отзывах опубликованных на сайте ресторана."
   ]
  },
  {
   "cell_type": "markdown",
   "metadata": {},
   "source": [
    "Выделим даты публикации отзывов в отдельные признаки 'reviews_date_1', 'reviews_date_2'. Имеем достаточно много незаполненных значений. Заменим их на самую раннюю дату отзыва(чтобы не получить отрицательную разность при дальнейшей работе с признаками):"
   ]
  },
  {
   "cell_type": "code",
   "execution_count": 24,
   "metadata": {},
   "outputs": [],
   "source": [
    "reviews_date = []\n",
    "for i in data['Reviews']:\n",
    "    if i == '[[], []]' or i == 0:\n",
    "        reviews_date.append('')\n",
    "    else:\n",
    "        i = str(i).replace(']]', '')\n",
    "        i = i.replace(\"'\", '')\n",
    "        i = i.split('], [')[1]\n",
    "        i = i.split(', ')\n",
    "        reviews_date.append(i)\n",
    "\n",
    "data['reviews_date'] = reviews_date      \n",
    "        \n",
    "data['reviews_date_1'] = data['reviews_date'].apply(lambda x: x[1] if len(x) == 2 else None)\n",
    "data['reviews_date_2'] = data['reviews_date'].apply(lambda x: x[0] if len(x) > 0 else None)\n",
    "\n",
    "data['reviews_date_1'] = pd.to_datetime(data['reviews_date_1'])\n",
    "data['reviews_date_2'] = pd.to_datetime(data['reviews_date_2'])\n",
    "\n",
    "data['reviews_date_1'] = data['reviews_date_1'].apply(lambda x: data['reviews_date_1'].min()\\\n",
    "                                                      if pd.isnull(x) else x)\n",
    "data['reviews_date_2'] = data['reviews_date_2'].apply(lambda x: data['reviews_date_1'].min()\\\n",
    "                                                      if pd.isnull(x) else x)\n"
   ]
  },
  {
   "cell_type": "markdown",
   "metadata": {},
   "source": [
    "Создадим признак отображающий количество дней между оставленными на сайте отзывами:"
   ]
  },
  {
   "cell_type": "code",
   "execution_count": 25,
   "metadata": {},
   "outputs": [],
   "source": [
    "data['between_dates'] = (data['reviews_date_2'] - data['reviews_date_1']).dt.days"
   ]
  },
  {
   "cell_type": "markdown",
   "metadata": {},
   "source": [
    "Еще добавим признак показывающий сколько дней прошло с публикации последнего отзыва:"
   ]
  },
  {
   "cell_type": "code",
   "execution_count": 26,
   "metadata": {},
   "outputs": [],
   "source": [
    "data['days_to_today'] = (datetime.now() - data['reviews_date_2']).dt.days"
   ]
  },
  {
   "cell_type": "markdown",
   "metadata": {},
   "source": [
    "#### URL_TA \n",
    "\n",
    "Данный признак не несет никакой полезной для построения модели информации"
   ]
  },
  {
   "cell_type": "markdown",
   "metadata": {},
   "source": [
    "#### ID_TA\n",
    "\n",
    "Выделим из этого признака идентификатор ресторана:"
   ]
  },
  {
   "cell_type": "code",
   "execution_count": 27,
   "metadata": {},
   "outputs": [],
   "source": [
    "data['id_ta'] = data['ID_TA'].apply(lambda x: int(x[1:]))"
   ]
  },
  {
   "cell_type": "markdown",
   "metadata": {},
   "source": [
    "#### Категориальные признаки\n",
    "\n",
    "Добавим dummy-признаки по столбцу 'City':"
   ]
  },
  {
   "cell_type": "code",
   "execution_count": 28,
   "metadata": {},
   "outputs": [],
   "source": [
    "data = pd.get_dummies(data, columns=[ 'City',], dummy_na=True)"
   ]
  },
  {
   "cell_type": "markdown",
   "metadata": {},
   "source": [
    "### Структура итогового датасета\n",
    "\n",
    "Удалим все созданные для промежуточных прераций признаки, посмотрим на окончательную версию датасета и построим матрицу корреляции:"
   ]
  },
  {
   "cell_type": "code",
   "execution_count": 29,
   "metadata": {},
   "outputs": [],
   "source": [
    "data = data.drop(['Restaurant_id', 'Cuisine Style', 'Price Range', 'Reviews', 'URL_TA', 'ID_TA', 'reviews_date_1', \n",
    "           'reviews_date_2', 'reviews_date'\n",
    "                 ], axis = 1)\n"
   ]
  },
  {
   "cell_type": "code",
   "execution_count": 30,
   "metadata": {
    "scrolled": false
   },
   "outputs": [
    {
     "data": {
      "text/plain": [
<<<<<<< HEAD
       "<matplotlib.axes._subplots.AxesSubplot at 0x1a247303d0>"
=======
       "<matplotlib.axes._subplots.AxesSubplot at 0x1a21849090>"
>>>>>>> e5b8f3cfcba6ff204a97711356b9ba6b982d76bb
      ]
     },
     "execution_count": 30,
     "metadata": {},
     "output_type": "execute_result"
    },
    {
     "data": {
      "image/png": "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\n",
      "text/plain": [
       "<Figure size 1080x720 with 2 Axes>"
      ]
     },
     "metadata": {
      "needs_background": "light"
     },
     "output_type": "display_data"
    }
   ],
   "source": [
    "plt.rcParams['figure.figsize'] = (15, 10)\n",
    "sns.heatmap(data.corr())"
   ]
  },
  {
   "cell_type": "markdown",
   "metadata": {},
   "source": [
    "## Создание модели"
   ]
  },
  {
   "cell_type": "code",
   "execution_count": 31,
   "metadata": {},
   "outputs": [],
   "source": [
    "# Теперь выделим тестовую часть\n",
    "train_data = data.query('sample == 1').drop(['sample'], axis=1)\n",
    "test_data = data.query('sample == 0').drop(['sample'], axis=1)\n",
    "\n",
    "y = train_data.Rating.values            # наш таргет\n",
    "X = train_data.drop(['Rating'], axis=1)"
   ]
  },
  {
   "cell_type": "markdown",
   "metadata": {},
   "source": [
    "Перед тем как отправлять наши данные на обучение, разделим данные на еще один тест и трейн, для валидации. \n",
    "Это поможет нам проверить, как хорошо наша модель работает, до отправки submissiona на kaggle."
   ]
  },
  {
   "cell_type": "code",
   "execution_count": 32,
   "metadata": {},
   "outputs": [],
   "source": [
    "# Воспользуемся специальной функцие train_test_split для разбивки тестовых данных\n",
    "# выделим 20% данных на валидацию (параметр test_size)\n",
    "X_train, X_test, y_train, y_test = train_test_split(X, y, test_size=0.2, random_state=RANDOM_SEED)"
   ]
  },
  {
   "cell_type": "code",
   "execution_count": 33,
   "metadata": {},
   "outputs": [
    {
     "data": {
      "text/plain": [
       "((10000, 48), (40000, 48), (40000, 47), (32000, 47), (8000, 47))"
      ]
     },
     "execution_count": 33,
     "metadata": {},
     "output_type": "execute_result"
    }
   ],
   "source": [
    "# проверяем\n",
    "test_data.shape, train_data.shape, X.shape, X_train.shape, X_test.shape"
   ]
  },
  {
   "cell_type": "code",
   "execution_count": 34,
   "metadata": {},
   "outputs": [],
   "source": [
    "# Создаём модель \n",
    "model = RandomForestRegressor(n_estimators=100, verbose=1, n_jobs=-1, random_state=RANDOM_SEED)"
   ]
  },
  {
   "cell_type": "code",
   "execution_count": 35,
   "metadata": {},
   "outputs": [
    {
     "name": "stderr",
     "output_type": "stream",
     "text": [
      "[Parallel(n_jobs=-1)]: Using backend ThreadingBackend with 4 concurrent workers.\n",
<<<<<<< HEAD
      "[Parallel(n_jobs=-1)]: Done  42 tasks      | elapsed:    4.6s\n",
      "[Parallel(n_jobs=-1)]: Done 100 out of 100 | elapsed:   10.9s finished\n",
=======
      "[Parallel(n_jobs=-1)]: Done  42 tasks      | elapsed:    4.2s\n",
      "[Parallel(n_jobs=-1)]: Done 100 out of 100 | elapsed:   10.5s finished\n",
>>>>>>> e5b8f3cfcba6ff204a97711356b9ba6b982d76bb
      "[Parallel(n_jobs=4)]: Using backend ThreadingBackend with 4 concurrent workers.\n",
      "[Parallel(n_jobs=4)]: Done  42 tasks      | elapsed:    0.0s\n",
      "[Parallel(n_jobs=4)]: Done 100 out of 100 | elapsed:    0.1s finished\n"
     ]
    }
   ],
   "source": [
    "# Обучаем модель на тестовом наборе данных\n",
    "model.fit(X_train, y_train)\n",
    "\n",
    "# Используем обученную модель для предсказания рейтинга ресторанов в тестовой выборке.\n",
    "# Предсказанные значения записываем в переменную y_pred\n",
    "y_pred = model.predict(X_test)\n",
    "\n",
    "# Округлим предсказанные значения до степени округления целевой переменной\n",
    "y_pred = np.round(y_pred*2)/2"
   ]
  },
  {
   "cell_type": "code",
   "execution_count": 36,
   "metadata": {
    "scrolled": true
   },
   "outputs": [
    {
     "name": "stdout",
     "output_type": "stream",
     "text": [
      "MAE: 0.162375\n"
     ]
    }
   ],
   "source": [
    "# Сравниваем предсказанные значения (y_pred) с реальными (y_test), и смотрим насколько они в среднем отличаются\n",
    "# Метрика называется Mean Absolute Error (MAE) и показывает среднее отклонение предсказанных значений от фактических.\n",
    "print('MAE:', metrics.mean_absolute_error(y_test, y_pred))"
   ]
  },
  {
   "cell_type": "code",
   "execution_count": 37,
   "metadata": {},
   "outputs": [
    {
     "data": {
      "text/plain": [
<<<<<<< HEAD
       "<matplotlib.axes._subplots.AxesSubplot at 0x1a22256450>"
=======
       "<matplotlib.axes._subplots.AxesSubplot at 0x1a215d5410>"
>>>>>>> e5b8f3cfcba6ff204a97711356b9ba6b982d76bb
      ]
     },
     "execution_count": 37,
     "metadata": {},
     "output_type": "execute_result"
    },
    {
     "data": {
      "image/png": "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\n",
      "text/plain": [
       "<Figure size 720x720 with 1 Axes>"
      ]
     },
     "metadata": {
      "needs_background": "light"
     },
     "output_type": "display_data"
    }
   ],
   "source": [
    "# в RandomForestRegressor есть возможность вывести самые важные признаки для модели\n",
    "plt.rcParams['figure.figsize'] = (10,10)\n",
    "feat_importances = pd.Series(model.feature_importances_, index=X.columns)\n",
    "feat_importances.nlargest(15).plot(kind='barh')"
   ]
<<<<<<< HEAD
  },
  {
   "cell_type": "markdown",
   "metadata": {},
   "source": [
    "## Submission\n",
    "Готовим Submission на кагл"
   ]
  },
  {
   "cell_type": "code",
   "execution_count": 38,
   "metadata": {},
   "outputs": [],
   "source": [
    "test_data = test_data.drop(['Rating'], axis=1)"
   ]
  },
  {
   "cell_type": "code",
   "execution_count": 39,
   "metadata": {},
   "outputs": [
    {
     "data": {
      "text/html": [
       "<div>\n",
       "<style scoped>\n",
       "    .dataframe tbody tr th:only-of-type {\n",
       "        vertical-align: middle;\n",
       "    }\n",
       "\n",
       "    .dataframe tbody tr th {\n",
       "        vertical-align: top;\n",
       "    }\n",
       "\n",
       "    .dataframe thead th {\n",
       "        text-align: right;\n",
       "    }\n",
       "</style>\n",
       "<table border=\"1\" class=\"dataframe\">\n",
       "  <thead>\n",
       "    <tr style=\"text-align: right;\">\n",
       "      <th></th>\n",
       "      <th>Restaurant_id</th>\n",
       "      <th>Rating</th>\n",
       "    </tr>\n",
       "  </thead>\n",
       "  <tbody>\n",
       "    <tr>\n",
       "      <th>0</th>\n",
       "      <td>id_0</td>\n",
       "      <td>2.0</td>\n",
       "    </tr>\n",
       "    <tr>\n",
       "      <th>1</th>\n",
       "      <td>id_1</td>\n",
       "      <td>2.5</td>\n",
       "    </tr>\n",
       "    <tr>\n",
       "      <th>2</th>\n",
       "      <td>id_2</td>\n",
       "      <td>4.0</td>\n",
       "    </tr>\n",
       "    <tr>\n",
       "      <th>3</th>\n",
       "      <td>id_3</td>\n",
       "      <td>1.0</td>\n",
       "    </tr>\n",
       "    <tr>\n",
       "      <th>4</th>\n",
       "      <td>id_4</td>\n",
       "      <td>4.0</td>\n",
       "    </tr>\n",
       "    <tr>\n",
       "      <th>...</th>\n",
       "      <td>...</td>\n",
       "      <td>...</td>\n",
       "    </tr>\n",
       "    <tr>\n",
       "      <th>9995</th>\n",
       "      <td>id_9995</td>\n",
       "      <td>3.0</td>\n",
       "    </tr>\n",
       "    <tr>\n",
       "      <th>9996</th>\n",
       "      <td>id_9996</td>\n",
       "      <td>1.5</td>\n",
       "    </tr>\n",
       "    <tr>\n",
       "      <th>9997</th>\n",
       "      <td>id_9997</td>\n",
       "      <td>4.5</td>\n",
       "    </tr>\n",
       "    <tr>\n",
       "      <th>9998</th>\n",
       "      <td>id_9998</td>\n",
       "      <td>1.0</td>\n",
       "    </tr>\n",
       "    <tr>\n",
       "      <th>9999</th>\n",
       "      <td>id_9999</td>\n",
       "      <td>2.5</td>\n",
       "    </tr>\n",
       "  </tbody>\n",
       "</table>\n",
       "<p>10000 rows × 2 columns</p>\n",
       "</div>"
      ],
      "text/plain": [
       "     Restaurant_id  Rating\n",
       "0             id_0     2.0\n",
       "1             id_1     2.5\n",
       "2             id_2     4.0\n",
       "3             id_3     1.0\n",
       "4             id_4     4.0\n",
       "...            ...     ...\n",
       "9995       id_9995     3.0\n",
       "9996       id_9996     1.5\n",
       "9997       id_9997     4.5\n",
       "9998       id_9998     1.0\n",
       "9999       id_9999     2.5\n",
       "\n",
       "[10000 rows x 2 columns]"
      ]
     },
     "execution_count": 39,
     "metadata": {},
     "output_type": "execute_result"
    }
   ],
   "source": [
    "sample_submission"
   ]
  },
  {
   "cell_type": "code",
   "execution_count": 40,
   "metadata": {
    "scrolled": true
   },
   "outputs": [
    {
     "name": "stderr",
     "output_type": "stream",
     "text": [
      "[Parallel(n_jobs=4)]: Using backend ThreadingBackend with 4 concurrent workers.\n",
      "[Parallel(n_jobs=4)]: Done  42 tasks      | elapsed:    0.1s\n",
      "[Parallel(n_jobs=4)]: Done 100 out of 100 | elapsed:    0.1s finished\n"
     ]
    }
   ],
   "source": [
    "predict_submission = model.predict(test_data)"
   ]
  },
  {
   "cell_type": "code",
   "execution_count": 41,
   "metadata": {},
   "outputs": [],
   "source": [
    "predict_submission = np.round(predict_submission*2)/2"
   ]
  },
  {
   "cell_type": "code",
   "execution_count": 42,
   "metadata": {},
   "outputs": [
    {
     "data": {
      "text/plain": [
       "array([3. , 4. , 4.5, ..., 3. , 4.5, 4.5])"
      ]
     },
     "execution_count": 42,
     "metadata": {},
     "output_type": "execute_result"
    }
   ],
   "source": [
    "predict_submission"
   ]
  },
  {
   "cell_type": "code",
   "execution_count": 43,
   "metadata": {},
   "outputs": [
    {
     "data": {
      "text/html": [
       "<div>\n",
       "<style scoped>\n",
       "    .dataframe tbody tr th:only-of-type {\n",
       "        vertical-align: middle;\n",
       "    }\n",
       "\n",
       "    .dataframe tbody tr th {\n",
       "        vertical-align: top;\n",
       "    }\n",
       "\n",
       "    .dataframe thead th {\n",
       "        text-align: right;\n",
       "    }\n",
       "</style>\n",
       "<table border=\"1\" class=\"dataframe\">\n",
       "  <thead>\n",
       "    <tr style=\"text-align: right;\">\n",
       "      <th></th>\n",
       "      <th>Restaurant_id</th>\n",
       "      <th>Rating</th>\n",
       "    </tr>\n",
       "  </thead>\n",
       "  <tbody>\n",
       "    <tr>\n",
       "      <th>0</th>\n",
       "      <td>id_0</td>\n",
       "      <td>3.0</td>\n",
       "    </tr>\n",
       "    <tr>\n",
       "      <th>1</th>\n",
       "      <td>id_1</td>\n",
       "      <td>4.0</td>\n",
       "    </tr>\n",
       "    <tr>\n",
       "      <th>2</th>\n",
       "      <td>id_2</td>\n",
       "      <td>4.5</td>\n",
       "    </tr>\n",
       "    <tr>\n",
       "      <th>3</th>\n",
       "      <td>id_3</td>\n",
       "      <td>4.5</td>\n",
       "    </tr>\n",
       "    <tr>\n",
       "      <th>4</th>\n",
       "      <td>id_4</td>\n",
       "      <td>4.5</td>\n",
       "    </tr>\n",
       "    <tr>\n",
       "      <th>5</th>\n",
       "      <td>id_5</td>\n",
       "      <td>4.5</td>\n",
       "    </tr>\n",
       "    <tr>\n",
       "      <th>6</th>\n",
       "      <td>id_6</td>\n",
       "      <td>2.5</td>\n",
       "    </tr>\n",
       "    <tr>\n",
       "      <th>7</th>\n",
       "      <td>id_7</td>\n",
       "      <td>2.5</td>\n",
       "    </tr>\n",
       "    <tr>\n",
       "      <th>8</th>\n",
       "      <td>id_8</td>\n",
       "      <td>4.0</td>\n",
       "    </tr>\n",
       "    <tr>\n",
       "      <th>9</th>\n",
       "      <td>id_9</td>\n",
       "      <td>4.5</td>\n",
       "    </tr>\n",
       "  </tbody>\n",
       "</table>\n",
       "</div>"
      ],
      "text/plain": [
       "  Restaurant_id  Rating\n",
       "0          id_0     3.0\n",
       "1          id_1     4.0\n",
       "2          id_2     4.5\n",
       "3          id_3     4.5\n",
       "4          id_4     4.5\n",
       "5          id_5     4.5\n",
       "6          id_6     2.5\n",
       "7          id_7     2.5\n",
       "8          id_8     4.0\n",
       "9          id_9     4.5"
      ]
     },
     "execution_count": 43,
     "metadata": {},
     "output_type": "execute_result"
    }
   ],
   "source": [
    "sample_submission['Rating'] = predict_submission\n",
    "sample_submission.to_csv('data/submission.csv', index=False)\n",
    "sample_submission.head(10)"
   ]
=======
>>>>>>> e5b8f3cfcba6ff204a97711356b9ba6b982d76bb
  }
 ],
 "metadata": {
  "kernelspec": {
   "display_name": "Python 3",
   "language": "python",
   "name": "python3"
  },
  "language_info": {
   "codemirror_mode": {
    "name": "ipython",
    "version": 3
   },
   "file_extension": ".py",
   "mimetype": "text/x-python",
   "name": "python",
   "nbconvert_exporter": "python",
   "pygments_lexer": "ipython3",
   "version": "3.7.6"
  }
 },
 "nbformat": 4,
 "nbformat_minor": 2
}

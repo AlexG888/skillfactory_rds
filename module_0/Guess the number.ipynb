{
 "cells": [
  {
   "cell_type": "code",
   "execution_count": 3,
   "metadata": {},
   "outputs": [
    {
     "name": "stdout",
     "output_type": "stream",
     "text": [
      "Алгоритм угадывает число в среднем за 5 попыток\n"
     ]
    }
   ],
   "source": [
    "import numpy as np\n",
    "def score_game(game_core_v3):\n",
    "    count_ls = []\n",
    "    np.random.seed(1)  \n",
    "    random_array = np.random.randint(1, 101, size=(1000))\n",
    "    for number in random_array:\n",
    "        count_ls.append(game_core_v3(number))\n",
    "    score = int(np.mean(count_ls))\n",
    "    return(print(f\"Алгоритм угадывает число в среднем за {score} попыток\"))\n",
    "\n",
    "def game_core_v3(number):\n",
    "    first = 1\n",
    "    last = 100\n",
    "    count = 0\n",
    "    import math\n",
    "    while first <= last:\n",
    "        count += 1\n",
    "        predict = math.trunc((first + last)/2)\n",
    "        if predict == number:\n",
    "            return count\n",
    "        elif predict > number:\n",
    "            last = predict - 1\n",
    "        else:\n",
    "            first = predict + 1\n",
    "    return None\n",
    "\n",
    "score_game(game_core_v3)"
   ]
  },
  {
   "cell_type": "code",
   "execution_count": null,
   "metadata": {},
   "outputs": [],
   "source": []
  }
 ],
 "metadata": {
  "kernelspec": {
   "display_name": "Python 3",
   "language": "python",
   "name": "python3"
  },
  "language_info": {
   "codemirror_mode": {
    "name": "ipython",
    "version": 3
   },
   "file_extension": ".py",
   "mimetype": "text/x-python",
   "name": "python",
   "nbconvert_exporter": "python",
   "pygments_lexer": "ipython3",
   "version": "3.7.6"
  }
 },
 "nbformat": 4,
 "nbformat_minor": 4
}
